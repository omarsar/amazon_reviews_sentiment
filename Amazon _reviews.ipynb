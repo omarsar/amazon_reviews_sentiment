{
 "cells": [
  {
   "cell_type": "markdown",
   "metadata": {},
   "source": [
    "### In this program we are trying to investigate how helpfulness is correlated with sentiment or emotions. The objective is to analyze the Amazon recommendation data-set to see how score, helpfulness and emotions/sentiment are all correlated. \n",
    "https://www.kaggle.com/snap/amazon-fine-food-reviews"
   ]
  },
  {
   "cell_type": "code",
   "execution_count": 50,
   "metadata": {
    "collapsed": true
   },
   "outputs": [],
   "source": [
    "%matplotlib inline\n",
    "\n",
    "import sqlite3\n",
    "import pandas as pd\n",
    "import numpy as np\n",
    "import nltk\n",
    "import string\n",
    "import matplotlib.pyplot as plt\n",
    "import numpy as np\n",
    "import pickle as pickle\n",
    "from sklearn.feature_extraction.text import TfidfTransformer\n",
    "from sklearn.feature_extraction.text import CountVectorizer\n",
    "from sklearn.cross_validation import train_test_split\n",
    "from sklearn.metrics import confusion_matrix\n",
    "from sklearn import metrics\n",
    "from sklearn.metrics import roc_curve, auc\n",
    "from nltk.stem.porter import PorterStemmer"
   ]
  },
  {
   "cell_type": "markdown",
   "metadata": {},
   "source": [
    "### Loading the Data"
   ]
  },
  {
   "cell_type": "code",
   "execution_count": 55,
   "metadata": {
    "collapsed": false
   },
   "outputs": [],
   "source": [
    "file = open('reviews.pickle', 'rb')\n",
    "\n",
    "if not file:\n",
    "    #read from database in dataframe format\n",
    "    con  = sqlite3.connect('./input/database/database.sqlite')\n",
    "    messages = pd.read_sql_query(\"\"\"\n",
    "    SELECT Score, Summary\n",
    "    FROM Reviews\n",
    "    WHERE Score != 3\n",
    "    \"\"\", con)\n",
    "\n",
    "    #function to assign label (if > 3 postitive else: negative - 3 not considered)\n",
    "    def assign_labels(x):\n",
    "        if x < 3:\n",
    "            return 'negative'\n",
    "        return 'positive'\n",
    "\n",
    "    #obtain columns\n",
    "    scores = messages['Score']\n",
    "    scores = scores.map(partition)\n",
    "    summaries = messages['Summary']\n",
    "    \n",
    "    #function to turn data into pickle for later ease and convenience of use\n",
    "    pickle_file = 'reviews.pickle'\n",
    "    def data_to_pickle(scores, summaries):\n",
    "        try:\n",
    "            f = open(pickle_file, 'wb')\n",
    "            save = {\n",
    "                'scores': scores,\n",
    "                'summaries': summaries,\n",
    "            }\n",
    "            pickle.dump(save, f, pickle.HIGHEST_PROTOCOL)\n",
    "            f.close()\n",
    "        except Exception as e:\n",
    "            print ('Unable to save data to', pickle_file, ':', e)\n",
    "            raise\n",
    "\n",
    "    data_to_pickle(scores, summaries)\n",
    "\n",
    "#pull data from pickle\n",
    "file = open('reviews.pickle', 'rb')\n",
    "data = pickle.load(file)\n",
    "\n",
    "scores, summaries = data['scores'],data['summaries']\n",
    "\n",
    "X_train,  X_test, y_train, y_test = train_test_split(summaries, scores, test_size=0.2, random_state=42)"
   ]
  },
  {
   "cell_type": "markdown",
   "metadata": {},
   "source": [
    "### Pre-processing Data"
   ]
  },
  {
   "cell_type": "code",
   "execution_count": 128,
   "metadata": {
    "collapsed": false
   },
   "outputs": [],
   "source": [
    "stemmer = PorterStemmer()\n",
    "from nltk.corpus import stopwords\n",
    "import re\n",
    "\n",
    "neg_words = ['never','no','nothing','nowhere','noone','none','not','havent','hasnt','hadnt',\n",
    "'cant','couldnt','shouldnt','wont','wouldnt','dont','doesnt','didnt','isnt','arent','aint']\n",
    "\n",
    "#function to analyze the amount of negative terms in corpus\n",
    "def get_neg_words(text):\n",
    "    tokens = nltk.word_tokenize(text)\n",
    "    neg_words_retrieved = [word for word in tokens if word in neg_words]\n",
    "    return len(neg_words_retrieved)\n",
    "        \n",
    "#function to implement the stemming\n",
    "def stem_tokens(tokens, stemmer):\n",
    "    stemmed = []\n",
    "    for item in tokens:\n",
    "        stemmed.append(stemmer.stem(item))\n",
    "    return stemmed\n",
    "\n",
    "#function to tokenize text\n",
    "def tokenize(text):\n",
    "    tokens = nltk.word_tokenize(text)\n",
    "    #tokens = [word for word in tokens if word not in stopwords.words('english') or word in neg_words]\n",
    "    stems = stem_tokens(tokens, stemmer)\n",
    "    return ' '.join(stems)\n",
    "\n",
    "#turn punctuations into whitespaces\n",
    "#intab = string.punctuation.strip(\"'\")\n",
    "#outtab = \"                                \"\n",
    "#trantab = str.maketrans(intab, outtab)\n",
    "\n",
    "#replace punctuation expression by using a regular expression instead\n",
    "regex = re.compile('[%s]' % re.escape(string.punctuation))"
   ]
  },
  {
   "cell_type": "markdown",
   "metadata": {},
   "source": [
    "### Preparing and Analyzing the Data"
   ]
  },
  {
   "cell_type": "code",
   "execution_count": 129,
   "metadata": {
    "collapsed": false
   },
   "outputs": [],
   "source": [
    "#preparing the training dataset\n",
    "\n",
    "corpus = []\n",
    "neg_words_counter = 0\n",
    "\n",
    "for text in X_train:\n",
    "    text = text.lower()\n",
    "    #text = text.translate(trantab)\n",
    "    text = regex.sub('', text)\n",
    "    #neg_words_counter = neg_words_counter + get_neg_words(text)\n",
    "    \n",
    "    text=tokenize(text)\n",
    "    corpus.append(text)"
   ]
  },
  {
   "cell_type": "code",
   "execution_count": 130,
   "metadata": {
    "collapsed": false
   },
   "outputs": [
    {
     "name": "stdout",
     "output_type": "stream",
     "text": [
      "0\n"
     ]
    }
   ],
   "source": [
    "print (neg_words_counter)"
   ]
  },
  {
   "cell_type": "code",
   "execution_count": 131,
   "metadata": {
    "collapsed": false
   },
   "outputs": [
    {
     "name": "stdout",
     "output_type": "stream",
     "text": [
      "['almond great buy', 'i never thought id have to say no to more fruit and veggi', 'we love thi stuff', 'fanfriggentast', 'great for offic', 'what have they done', 'cri babi tear', 'good cereal with a few potenti health concern', 'a quick meal', 'good flavor', 'best bbq sauc ever', 'best lemonad mix ive bought', 'if you like the tast of chai you will love thi', 'the best basic ramen noodl out there', 'huge bag', 'great experi', 'good stuff', 'good stuff', 'count them', 'the best popcorn for your health', 'thi is great oil', 'chocol chip cooki youll love to bake up with your kid anytim', 'cant be beat', 'delici', 'one of the most import miner for asthmat', 'bewar', 'great cooki and lot of fun', 'horribl product', 'awesom coffe', 'green chai a big hit']\n"
     ]
    }
   ],
   "source": [
    "print (corpus[:30])"
   ]
  },
  {
   "cell_type": "code",
   "execution_count": 132,
   "metadata": {
    "collapsed": true
   },
   "outputs": [],
   "source": [
    "count_vect = CountVectorizer(ngram_range=(1,2))\n",
    "X_train_counts = count_vect.fit_transform(corpus) "
   ]
  },
  {
   "cell_type": "markdown",
   "metadata": {},
   "source": [
    "#### Note: CountVectorizers count the number of words that are in the corpus. \n",
    "#### TODO: After some analysis the bag of words could be improved by improving the punctuation replacement and removing words shorter than two letters (ok, I , m, etc.,). \n",
    "#### TODO: bigrams can also be adopted\n",
    "#### TODO: Remove repeated words???\n",
    "#### TODO: Remove the concepts (they are basically just wildcards)\n",
    "#### TODO: Remove stop words but only leave the non-"
   ]
  },
  {
   "cell_type": "code",
   "execution_count": 133,
   "metadata": {
    "collapsed": false
   },
   "outputs": [],
   "source": [
    "tfidf_transformer = TfidfTransformer()\n",
    "X_train_tfidf = tfidf_transformer.fit_transform(X_train_counts)"
   ]
  },
  {
   "cell_type": "code",
   "execution_count": 134,
   "metadata": {
    "collapsed": false
   },
   "outputs": [],
   "source": [
    "#preparing the test data-set\n",
    "\n",
    "test_set = []\n",
    "for text in X_test:\n",
    "    text = text.lower()\n",
    "    #text = text.translate(trantab)\n",
    "    \n",
    "    text = regex.sub('', text)\n",
    "    \n",
    "    text=tokenize(text)\n",
    "    test_set.append(text)"
   ]
  },
  {
   "cell_type": "code",
   "execution_count": 135,
   "metadata": {
    "collapsed": true
   },
   "outputs": [],
   "source": [
    "X_new_counts = count_vect.transform(test_set)\n",
    "X_test_tfidf = tfidf_transformer.transform(X_new_counts)"
   ]
  },
  {
   "cell_type": "markdown",
   "metadata": {},
   "source": [
    "### Training Models"
   ]
  },
  {
   "cell_type": "code",
   "execution_count": 136,
   "metadata": {
    "collapsed": false
   },
   "outputs": [],
   "source": [
    "from pandas import *\n",
    "#df = DataFrame({'Before': X_train, 'After': corpus})\n",
    "#print(df.head(20))\n",
    "\n",
    "prediction = dict()\n",
    "\n",
    "#MNB\n",
    "from sklearn.naive_bayes import MultinomialNB\n",
    "model = MultinomialNB().fit(X_train_tfidf, y_train)\n",
    "prediction['Multinomial'] = model.predict(X_test_tfidf)\n",
    "\n",
    "#BNB\n",
    "from sklearn.naive_bayes import BernoulliNB\n",
    "model = BernoulliNB().fit(X_train_tfidf, y_train)\n",
    "prediction['Bernoulli'] = model.predict(X_test_tfidf)\n",
    "\n",
    "#Logistic regression\n",
    "from sklearn import linear_model\n",
    "logreg = linear_model.LogisticRegression(C=1e5)\n",
    "logreg.fit(X_train_tfidf, y_train)\n",
    "prediction['Logistic'] = logreg.predict(X_test_tfidf)"
   ]
  },
  {
   "cell_type": "markdown",
   "metadata": {},
   "source": [
    "### Results"
   ]
  },
  {
   "cell_type": "code",
   "execution_count": 137,
   "metadata": {
    "collapsed": false
   },
   "outputs": [
    {
     "data": {
      "image/png": "[encoded data removed]",
      "text/plain": [
       "<matplotlib.figure.Figure at 0x7efc9a7c8ba8>"
      ]
     },
     "metadata": {},
     "output_type": "display_data"
    }
   ],
   "source": [
    "def formatt(x):\n",
    "    if x == 'negative':\n",
    "        return 0\n",
    "    return 1\n",
    "vfunc = np.vectorize(formatt)\n",
    "\n",
    "cmp = 0\n",
    "colors = ['b', 'g', 'y', 'm', 'k']\n",
    "for model, predicted in prediction.items():\n",
    "    false_positive_rate, true_positive_rate, thresholds = roc_curve(y_test.map(formatt), vfunc(predicted))\n",
    "    roc_auc = auc(false_positive_rate, true_positive_rate)\n",
    "    plt.plot(false_positive_rate, true_positive_rate, colors[cmp], label='%s: AUC %0.2f'% (model,roc_auc))\n",
    "    cmp += 1\n",
    "\n",
    "plt.title('Classifiers comparaison with ROC')\n",
    "plt.legend(loc='lower right')\n",
    "plt.plot([0,1],[0,1],'r--')\n",
    "plt.xlim([-0.1,1.2])\n",
    "plt.ylim([-0.1,1.2])\n",
    "plt.ylabel('True Positive Rate')\n",
    "plt.xlabel('False Positive Rate')\n",
    "plt.show()"
   ]
  },
  {
   "cell_type": "code",
   "execution_count": 138,
   "metadata": {
    "collapsed": false
   },
   "outputs": [
    {
     "name": "stdout",
     "output_type": "stream",
     "text": [
      "             precision    recall  f1-score   support\n",
      "\n",
      "   positive       0.88      0.83      0.85     16379\n",
      "   negative       0.97      0.98      0.97     88784\n",
      "\n",
      "avg / total       0.95      0.96      0.96    105163\n",
      "\n"
     ]
    }
   ],
   "source": [
    "print(metrics.classification_report(y_test, prediction['Logistic'], target_names = [\"positive\", \"negative\"]))"
   ]
  },
  {
   "cell_type": "code",
   "execution_count": 140,
   "metadata": {
    "collapsed": false
   },
   "outputs": [
    {
     "data": {
      "image/png": "[encoded data removed]",
      "text/plain": [
       "<matplotlib.figure.Figure at 0x7efca1245240>"
      ]
     },
     "metadata": {},
     "output_type": "display_data"
    },
    {
     "data": {
      "image/png": "[encoded data removed]",
      "text/plain": [
       "<matplotlib.figure.Figure at 0x7efca132ae48>"
      ]
     },
     "metadata": {},
     "output_type": "display_data"
    }
   ],
   "source": [
    "def plot_confusion_matrix(cm, title='Confusion matrix', cmap=plt.cm.Blues):\n",
    "    plt.imshow(cm, interpolation='nearest', cmap=cmap)\n",
    "    plt.title(title)\n",
    "    plt.colorbar()\n",
    "    tick_marks = np.arange(len(set(Score)))\n",
    "    plt.xticks(tick_marks, set(Score), rotation=45)\n",
    "    plt.yticks(tick_marks, set(Score))\n",
    "    plt.tight_layout()\n",
    "    plt.ylabel('True label')\n",
    "    plt.xlabel('Predicted label')\n",
    "    \n",
    "# Compute confusion matrix\n",
    "cm = confusion_matrix(y_test, prediction['Logistic'])\n",
    "np.set_printoptions(precision=2)\n",
    "plt.figure()\n",
    "plot_confusion_matrix(cm)    \n",
    "\n",
    "cm_normalized = cm.astype('float') / cm.sum(axis=1)[:, np.newaxis]\n",
    "plt.figure()\n",
    "plot_confusion_matrix(cm_normalized, title='Normalized confusion matrix')\n",
    "\n",
    "plt.show()"
   ]
  },
  {
   "cell_type": "code",
   "execution_count": null,
   "metadata": {
    "collapsed": true
   },
   "outputs": [],
   "source": []
  }
 ],
 "metadata": {
  "kernelspec": {
   "display_name": "Python 3",
   "language": "python",
   "name": "python3"
  },
  "language_info": {
   "codemirror_mode": {
    "name": "ipython",
    "version": 3
   },
   "file_extension": ".py",
   "mimetype": "text/x-python",
   "name": "python",
   "nbconvert_exporter": "python",
   "pygments_lexer": "ipython3",
   "version": "3.4.3+"
  }
 },
 "nbformat": 4,
 "nbformat_minor": 0
}
